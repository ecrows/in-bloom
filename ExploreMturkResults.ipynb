{
 "cells": [
  {
   "cell_type": "code",
   "execution_count": 1,
   "id": "b5a4ea7b-1829-4db9-b0be-4ef2a349b04d",
   "metadata": {},
   "outputs": [
    {
     "name": "stdout",
     "output_type": "stream",
     "text": [
      "Requirement already satisfied: krippendorff in c:\\users\\gamer\\miniconda3\\envs\\jupyter\\lib\\site-packages (0.5.2)\n",
      "Requirement already satisfied: numpy in c:\\users\\gamer\\miniconda3\\envs\\jupyter\\lib\\site-packages (from krippendorff) (1.23.4)\n"
     ]
    }
   ],
   "source": [
    "!pip install krippendorff"
   ]
  },
  {
   "cell_type": "code",
   "execution_count": 90,
   "id": "6c180a43-dd06-47ad-8b49-36569611327b",
   "metadata": {},
   "outputs": [],
   "source": [
    "import pandas as pd\n",
    "import numpy as np\n",
    "import matplotlib.pyplot as plt\n",
    "from scipy import stats\n",
    "import krippendorff"
   ]
  },
  {
   "cell_type": "code",
   "execution_count": 91,
   "id": "a02db5b4-5f77-404c-9a89-eeb62eb09b51",
   "metadata": {},
   "outputs": [
    {
     "name": "stdout",
     "output_type": "stream",
     "text": [
      "(1343, 42)\n"
     ]
    }
   ],
   "source": [
    "all_results = pd.read_csv(\"mturk_results/Batch_4938381_batch_results_final.csv\").replace(\"nan\", np.nan)\n",
    "print(all_results.shape)"
   ]
  },
  {
   "cell_type": "code",
   "execution_count": 92,
   "id": "5b6b26f6-3ed3-4b74-8893-6c28d22d59a2",
   "metadata": {},
   "outputs": [],
   "source": [
    "coherence_score_mapping = {\n",
    "    \"是\": 10,\n",
    "    \"还行\": 7.5,\n",
    "    \"不太好\": 2.5,\n",
    "    \"否\": 0\n",
    "}\n",
    "\n",
    "creative_score_mapping = {\n",
    "    \"有创意感\": 10,\n",
    "    \"还行\": 5,\n",
    "    \"没有创意\": 0\n",
    "}\n",
    "\n",
    "like_score_mapping = {\n",
    "    \"我很喜欢这些歌词\": 10,\n",
    "    \"我喜欢这些歌词。\": 7.5,\n",
    "    \"一般\": 5,\n",
    "    \"我不喜欢这些歌词\": 2.5,\n",
    "    \"我非常不喜欢这些歌词\": 0\n",
    "}\n",
    "\n",
    "recognize_score_mapping = {\n",
    "    \"见过\": 10,\n",
    "    \"我可能见过\": 5,\n",
    "    \"没见过\": 0\n",
    "}"
   ]
  },
  {
   "cell_type": "code",
   "execution_count": 143,
   "id": "aeafd7d4-8c37-4171-b3cd-6604e8ee52d4",
   "metadata": {},
   "outputs": [
    {
     "data": {
      "text/plain": [
       "<AxesSubplot: >"
      ]
     },
     "execution_count": 143,
     "metadata": {},
     "output_type": "execute_result"
    },
    {
     "data": {
      "image/png": "[encoded data removed]",
      "text/plain": [
       "<Figure size 460.8x288 with 1 Axes>"
      ]
     },
     "metadata": {
      "needs_background": "light"
     },
     "output_type": "display_data"
    }
   ],
   "source": [
    "all_results[\"WorkTimeInSeconds\"].hist()"
   ]
  },
  {
   "cell_type": "code",
   "execution_count": 144,
   "id": "f9cba0d8-a0fb-40be-8b46-d8b79427ac0f",
   "metadata": {},
   "outputs": [
    {
     "name": "stdout",
     "output_type": "stream",
     "text": [
      "(1343, 42)\n",
      "66.57611864816872\n"
     ]
    }
   ],
   "source": [
    "print(all_results.shape)\n",
    "print(stats.gmean(all_results[\"WorkTimeInSeconds\"]))"
   ]
  },
  {
   "cell_type": "code",
   "execution_count": 145,
   "id": "7a2b7040-711c-4e64-ba4d-9caf2f6988d3",
   "metadata": {},
   "outputs": [],
   "source": [
    "WORK_TIME_THRESHOLD=40"
   ]
  },
  {
   "cell_type": "code",
   "execution_count": 146,
   "id": "ed783fed-31b2-4e2d-9e2d-de5210162c64",
   "metadata": {},
   "outputs": [],
   "source": [
    "# Banlist based on the responses to writing a summary, typically including copy-pasted text unrelated to the lyrics,\n",
    "# failing to respond correctly to being able to understand Chinese, spambots, etc.\n",
    "banlist = [\n",
    "    \"A1IA2JF9P0CRUD\",\n",
    "    \"A1XM3URUD94QOV\",\n",
    "    \"A3B8KOCZ0MPOP0\",\n",
    "    \"A11EZAV2HRYKD5\",\n",
    "    \"A1BLDWY2BW9K00\",\n",
    "    \"A3C3QGIBQ0P14T\",\n",
    "    \"A4V7M88BI7JQ3\",\n",
    "    \"A2VUJ3PTQXPDMS\",\n",
    "    \"A3980M16RUS4KQ\",\n",
    "    \"A1NRY8F9U4AYEK\",\n",
    "    \"A2Z4BPD47W08AI\",\n",
    "    \"A3OD4F0SA7EBCL\",\n",
    "    \"A2P5R40NOOZ4HJ\",\n",
    "    \"A17IPBQRGLN7EO\",\n",
    "    \"A1VDWRF523BEIU\",\n",
    "    \"A29R1LR84VSJU3\",\n",
    "    \"A1O51ZAYABZYI5\",\n",
    "    \"A2BA1S5LNDMNDQ\",\n",
    "    \"A3CVJM1UKKS364\",\n",
    "    \"AQ9ISCTDF9B48\",\n",
    "    \"AF0FZJIIS6W6Z\",\n",
    "    \"AQKNC6HX4QOIT\",\n",
    "    \"A20S8LQNA2UHTQ\",\n",
    "    \"A252OJSOT5LYQL\",\n",
    "    \"A5K2TTBAQD1VT\",\n",
    "    \"A3A27SMPYAYN8S\",\n",
    "    \"A1ZQVLZDKWIH7V\",\n",
    "    \"A3UTSRN8QLKWEA\",\n",
    "    \"A11PJ3TQ4LWGWI\",\n",
    "    \"A2HJ3P49XKER77\",\n",
    "    \"A39L5W9N08RN33\",\n",
    "    \"A1VMWZ4X201V7H\",\n",
    "    \"A16YRC3B7Y3M20\",\n",
    "    \"AFLT0NC11YI7D\",\n",
    "    \"AU6SRME5DNC67\",\n",
    "    \"AMBLMZYRPW92F\",\n",
    "    \"A3SHPBG44GTD5F\",\n",
    "    \"A3FD5TA6O848ZW\",\n",
    "    \"AK17GMZEUCOF1\",\n",
    "    \"A26SWKBPOHR35I\",\n",
    "    \"A3HZ96K0U6XSZZ\",\n",
    "    \"A1SM32WW2YLFMM\",\n",
    "    \"A206WLS4KMBH86\",\n",
    "    \"A3FE33S2NMC46Q\",\n",
    "    \"A3OFNSL5ZG2N5R\",\n",
    "    \"A1VEHETU0E3MPY\",\n",
    "    \"A2C556VYMG2BXC\"\n",
    "]"
   ]
  },
  {
   "cell_type": "code",
   "execution_count": 147,
   "id": "d405808d-9ea6-4f11-96d1-ebb7b8c095ca",
   "metadata": {},
   "outputs": [],
   "source": [
    "# Compared to the above, these seem to be real people interested in answering questions\n",
    "# [\"A2U1F8KQ6ZTAYI\", \"A173A97OFDAX9F\", \"A3MSYMSTHZJI98\", \"A8IRVPCBEC76V\", \"A173T1IWICTNER\", \"A4D99Y82KOLC8\", \"AR7C4I782M1IS\", \"A2DNX3DYH3QGQE\", \"A1W4CUE8A4BRZ4\", \"ACBK30I7R42NI\", \"A3B4CQ6VTFJCP6\", \"A3QXI7YJY3WS4K\", \"A5K2TTBAQD1VT\", \"A11QRLR5MXQ2FV\", \"A1YZHSMNTHT3HD\", \"A2BF2FUO6F63N7\", \"A2OYUO1Q8IEPVH\", \"A2S0VPOB6SIRXZ\", \"ARW1TCHCLEK1W\", \"A1N53V41FMCR7Q\", \"AW14G41VV0BB2\", \"ASZQYF1HAJMS9\", \"ARJDD0Z3R65BD\", \"AUWM7LEMF3H9N\"]"
   ]
  },
  {
   "cell_type": "code",
   "execution_count": 148,
   "id": "3305ae39-f2f4-440b-8da3-085b465a420e",
   "metadata": {},
   "outputs": [],
   "source": [
    "def process_mturk_result(df):\n",
    "    processed_df = pd.DataFrame(df[df[\"AssignmentStatus\"] != \"Rejected\"])\n",
    "    processed_df = pd.DataFrame(processed_df[processed_df[\"WorkTimeInSeconds\"] > WORK_TIME_THRESHOLD])\n",
    "    processed_df = processed_df[processed_df[\"WorkerId\"].apply(lambda a: a not in banlist)]\n",
    "        \n",
    "    processed_df[\"coherence\"] = processed_df[\"Answer.coherence\"].fillna(processed_df[\"Answer.coherence.label\"])\n",
    "    processed_df[\"creative\"] = processed_df[\"Answer.creative\"].fillna(processed_df[\"Answer.creative.label\"])\n",
    "    processed_df[\"recognize\"] = processed_df[\"Answer.recognize\"].fillna(processed_df[\"Answer.recognize.label\"])\n",
    "    processed_df[\"like\"] = processed_df[\"Answer.like\"].fillna(processed_df[\"Answer.like.label\"])\n",
    "    processed_df = processed_df[[\"coherence\", \"creative\", \"recognize\", \"like\", \"Input.text\", \"Input.source\", \"WorkerId\", \"WorkTimeInSeconds\", \"Answer.summary\"]].dropna()\n",
    "    \n",
    "    processed_df[\"creative_score\"] = processed_df[\"creative\"].apply(lambda a: creative_score_mapping[a])\n",
    "    processed_df[\"coherence_score\"] = processed_df[\"coherence\"].apply(lambda a: coherence_score_mapping[a])\n",
    "    processed_df[\"recognize_score\"] = processed_df[\"recognize\"].apply(lambda a: recognize_score_mapping[a])\n",
    "    processed_df[\"like_score\"] = processed_df[\"like\"].apply(lambda a: like_score_mapping[a])\n",
    "    \n",
    "    print(f\"Shape: {processed_df.shape}\")\n",
    "    \n",
    "    return processed_df"
   ]
  },
  {
   "cell_type": "code",
   "execution_count": 149,
   "id": "16653dbb-30df-45ad-a42e-0a82cdf9d2cb",
   "metadata": {},
   "outputs": [],
   "source": [
    "def convert_to_krippendorff_input(obs, lookup_dict):\n",
    "    krip_inp = np.zeros((len(lookup_dict), len(obs)), dtype=int)\n",
    "    map_dict_keys = sorted(lookup_dict.values())\n",
    "    map_dict_idx = list(range(0, len(lookup_dict)))\n",
    "    lookup = dict(zip(map_dict_keys, map_dict_idx))\n",
    "    \n",
    "    for i, o in enumerate(obs):\n",
    "        for d in o:\n",
    "            krip_inp[lookup[d],i] += 1\n",
    "            \n",
    "    return krip_inp.T"
   ]
  },
  {
   "cell_type": "code",
   "execution_count": 150,
   "id": "ea31ddbf-4754-40f9-8142-1d85e8567469",
   "metadata": {},
   "outputs": [
    {
     "name": "stdout",
     "output_type": "stream",
     "text": [
      "Shape: (395, 13)\n"
     ]
    }
   ],
   "source": [
    "all_processed = process_mturk_result(all_results)"
   ]
  },
  {
   "cell_type": "code",
   "execution_count": 151,
   "id": "0d719db9-f04b-4752-9b0a-e0ac1a93adde",
   "metadata": {},
   "outputs": [],
   "source": [
    "# Drop responses which didn't follow instructions and didn't attempt to summarize the lyrics, copy pasted parts of the question, etc\n",
    "# Overlaps somewhat with ban list\n",
    "all_processed = all_processed[all_processed[\"Answer.summary\"] != \"1\"]\n",
    "all_processed = all_processed[all_processed[\"Answer.summary\"] != \"否\"]\n",
    "all_processed = all_processed[all_processed[\"Answer.summary\"] != \"是\"]\n",
    "\n",
    "all_processed = all_processed[all_processed[\"Answer.summary\"] != \"好的\"]\n",
    "all_processed = all_processed[all_processed[\"Answer.summary\"] != \"我喜欢这首歌\"]\n",
    "all_processed = all_processed[all_processed[\"Answer.summary\"] != \"好歌\"]\n",
    "all_processed = all_processed[all_processed[\"Answer.summary\"] != \"它的好听\"]\n",
    "all_processed = all_processed[all_processed[\"Answer.summary\"] != \"非常好\"]\n",
    "all_processed = all_processed[all_processed[\"Answer.summary\"] != \"我很喜欢\"]\n",
    "all_processed = all_processed[all_processed[\"Answer.summary\"] != \"读歌词\"]\n",
    "all_processed = all_processed[all_processed[\"Answer.summary\"] != \"我看不到歌词\"]\n",
    "all_processed = all_processed[all_processed[\"Answer.summary\"] != \"閱讀歌詞\"]\n",
    "all_processed = all_processed[all_processed[\"Answer.summary\"] != \"这是美妙的歌词\"]\n",
    "\n",
    "all_processed = all_processed[all_processed[\"Answer.summary\"] != \"good\"]\n",
    "all_processed = all_processed[all_processed[\"Answer.summary\"] != \"good.\"]\n",
    "all_processed = all_processed[all_processed[\"Answer.summary\"] != \"GOOD\"]\n",
    "all_processed = all_processed[all_processed[\"Answer.summary\"] != \"NICE\"]\n",
    "all_processed = all_processed[all_processed[\"Answer.summary\"] != \"OKAY\"]\n",
    "\n",
    "all_processed = all_processed[all_processed[\"Answer.summary\"] != \"{text}\"]\n",
    "all_processed = all_processed[all_processed[\"Answer.summary\"] != \"describe these lyrics\"]\n",
    "all_processed = all_processed[~all_processed[\"Answer.summary\"].str.contains(\"读歌词\")]\n",
    "all_processed = all_processed[~all_processed[\"Answer.summary\"].str.contains(\"写在这里\")]\n",
    "all_processed = all_processed[~all_processed[\"Answer.summary\"].str.contains(\"我们要读歌词\")]\n",
    "all_processed = all_processed[~all_processed[\"Answer.summary\"].str.contains(\"形容这些\")]\n",
    "all_processed = all_processed[~all_processed[\"Answer.summary\"].str.contains(\"我会读中文\")]"
   ]
  },
  {
   "cell_type": "markdown",
   "id": "6f14d62e-56a5-472c-b7b4-51984ca83752",
   "metadata": {},
   "source": [
    "Krippendorff is really brutal on this type of skewed data.  We noticed that agreement appears to improve if you filter out quicker responses, but we've decided against using response time directly as a measure of survey response quality."
   ]
  },
  {
   "cell_type": "code",
   "execution_count": 172,
   "id": "fc665e40-e13e-4089-b763-0267cce9e19f",
   "metadata": {},
   "outputs": [
    {
     "name": "stdout",
     "output_type": "stream",
     "text": [
      "-0.26178317664820283\n",
      "-0.19730520593728929\n",
      "-0.27540697785266\n",
      "-0.2348557107234137\n"
     ]
    }
   ],
   "source": [
    "method = \"ordinal\"\n",
    "\n",
    "like_agreement = list(all_processed.groupby(\"Input.text\").aggregate(lambda tdf: tdf.tolist())[\"like_score\"].to_list())\n",
    "recognize_agreement = list(all_processed.groupby(\"Input.text\").aggregate(lambda tdf: tdf.tolist())[\"recognize_score\"].to_list())\n",
    "coherence_agreement = list(all_processed.groupby(\"Input.text\").aggregate(lambda tdf: tdf.tolist())[\"coherence_score\"].to_list())\n",
    "creative_agreement = list(all_processed.groupby(\"Input.text\").aggregate(lambda tdf: tdf.tolist())[\"creative_score\"].to_list())\n",
    "\n",
    "krip_coherence = convert_to_krippendorff_input(coherence_agreement, coherence_score_mapping)\n",
    "krip_creativity = convert_to_krippendorff_input(creative_agreement, creative_score_mapping)\n",
    "krip_recognize = convert_to_krippendorff_input(recognize_agreement, recognize_score_mapping)\n",
    "krip_like = convert_to_krippendorff_input(like_agreement, like_score_mapping)\n",
    "\n",
    "co_score = krippendorff.alpha(value_counts=krip_coherence, level_of_measurement=method)\n",
    "crea_score = krippendorff.alpha(value_counts=krip_creativity, level_of_measurement=method)\n",
    "recog_score = krippendorff.alpha(value_counts=krip_recognize, level_of_measurement=method)\n",
    "like_score = krippendorff.alpha(value_counts=krip_like, level_of_measurement=method)\n",
    "\n",
    "print(co_score)\n",
    "print(crea_score)\n",
    "print(recog_score)\n",
    "print(like_score)"
   ]
  },
  {
   "cell_type": "code",
   "execution_count": 168,
   "id": "6e01ca89-45b1-4fb1-9531-1e5781196d0c",
   "metadata": {},
   "outputs": [],
   "source": [
    "def calc_stdev(agreement_in):\n",
    "    stds = []\n",
    "    for a in agreement_in:\n",
    "        if (len(a) > 1):\n",
    "            stds.append(np.std(a))\n",
    "\n",
    "    return(np.mean(stds))"
   ]
  },
  {
   "cell_type": "code",
   "execution_count": 171,
   "id": "232e2c9c-38fd-4174-848c-9116a6c9d0fa",
   "metadata": {},
   "outputs": [
    {
     "name": "stdout",
     "output_type": "stream",
     "text": [
      "1.290139472401979\n",
      "1.676581077288311\n",
      "2.6749175048601375\n",
      "1.9469269209019002\n"
     ]
    }
   ],
   "source": [
    "print(calc_stdev(coherence_agreement))\n",
    "print(calc_stdev(like_agreement))\n",
    "print(calc_stdev(recognize_agreement))\n",
    "print(calc_stdev(creative_agreement))"
   ]
  },
  {
   "cell_type": "code",
   "execution_count": 153,
   "id": "2937cb56-49f6-4e01-b7cd-dc4045e935cc",
   "metadata": {},
   "outputs": [],
   "source": [
    "# Little experiment looking at splitting out individual reviewers\n",
    "avg_by_worker = all_processed.groupby(\"WorkerId\").mean(numeric_only=True)\n",
    "def scale_score(df, col_name):\n",
    "    \"\"\"Scale the score based on the average value the reviewer selects\"\"\"\n",
    "    df[col_name+\"_scaled\"] = df.apply(lambda a: a[col_name]-avg_by_worker.loc[a[\"WorkerId\"]][col_name], axis=1)\n",
    "    return df\n",
    "\n",
    "for label in [\"creative_score\", \"coherence_score\", \"like_score\", \"recognize_score\"]:\n",
    "    all_processed = scale_score(all_processed, label)\n",
    "\n",
    "mean_scores = all_processed.groupby(\"Input.source\").mean(numeric_only=True)\n",
    "raws_only = mean_scores[[\"creative_score\",\"coherence_score\",\"like_score\",\"recognize_score\"]]\n",
    "raws_only.index = [0.80, 0.85, 0.90, 0.95, 0.99, 1.0]\n",
    "real_point = pd.DataFrame(raws_only.loc[1.00])"
   ]
  },
  {
   "cell_type": "code",
   "execution_count": 154,
   "id": "d236f2a0-bb39-4228-9e66-ca4179583267",
   "metadata": {},
   "outputs": [],
   "source": [
    "raws_only = raws_only.rename(columns={\"creative_score\": \"Creativity\", \"coherence_score\": \"Coherence\", \"like_score\": \"Affinity\", \"recognize_score\": \"Recognize\"})"
   ]
  },
  {
   "cell_type": "code",
   "execution_count": 155,
   "id": "874cc625-de0f-4f08-a68a-e2c6367eb428",
   "metadata": {},
   "outputs": [],
   "source": [
    "fake_raws = raws_only[0.8:0.99]"
   ]
  },
  {
   "cell_type": "code",
   "execution_count": 156,
   "id": "27d1248d-fa46-4f69-84d2-b5c6a88ad3da",
   "metadata": {},
   "outputs": [
    {
     "name": "stderr",
     "output_type": "stream",
     "text": [
      "C:\\Users\\Gamer\\AppData\\Local\\Temp\\ipykernel_26508\\202670222.py:8: UserWarning: color is redundantly defined by the 'color' keyword argument and the fmt string \"go\" (-> color='g'). The keyword argument will take precedence.\n",
      "  plt.plot(real_point.loc[\"coherence_score\"], \"go\", color='darkorange')\n",
      "C:\\Users\\Gamer\\AppData\\Local\\Temp\\ipykernel_26508\\202670222.py:9: UserWarning: color is redundantly defined by the 'color' keyword argument and the fmt string \"go\" (-> color='g'). The keyword argument will take precedence.\n",
      "  plt.plot(real_point.loc[\"like_score\"], \"go\", color='darkolivegreen')\n",
      "C:\\Users\\Gamer\\AppData\\Local\\Temp\\ipykernel_26508\\202670222.py:10: UserWarning: color is redundantly defined by the 'color' keyword argument and the fmt string \"go\" (-> color='g'). The keyword argument will take precedence.\n",
      "  plt.plot(real_point.loc[\"creative_score\"], \"go\", color='royalblue')\n",
      "C:\\Users\\Gamer\\AppData\\Local\\Temp\\ipykernel_26508\\202670222.py:11: UserWarning: color is redundantly defined by the 'color' keyword argument and the fmt string \"go\" (-> color='g'). The keyword argument will take precedence.\n",
      "  plt.plot(real_point.loc[\"recognize_score\"], \"go\", color='firebrick')\n"
     ]
    },
    {
     "data": {
      "image/png": "[encoded data removed]",
      "text/plain": [
       "<Figure size 460.8x288 with 1 Axes>"
      ]
     },
     "metadata": {
      "needs_background": "light"
     },
     "output_type": "display_data"
    }
   ],
   "source": [
    "import matplotlib.pyplot as plt\n",
    "from matplotlib.pyplot import figure\n",
    "\n",
    "plt.plot(fake_raws[\"Creativity\"].T, linestyle=\"dashdot\", linewidth=2.5)\n",
    "plt.plot(fake_raws[\"Coherence\"].T, linestyle=\"solid\", linewidth=2.5)\n",
    "plt.plot(fake_raws[\"Affinity\"].T, linestyle=\"dashed\", linewidth=2.5)\n",
    "plt.plot(fake_raws[\"Recognize\"].T, linestyle=\"dotted\", linewidth=2.5)\n",
    "plt.plot(real_point.loc[\"coherence_score\"], \"go\", color='darkorange')\n",
    "plt.plot(real_point.loc[\"like_score\"], \"go\", color='darkolivegreen')\n",
    "plt.plot(real_point.loc[\"creative_score\"], \"go\", color='royalblue')\n",
    "plt.plot(real_point.loc[\"recognize_score\"], \"go\", color='firebrick')\n",
    "\n",
    "plt.rcParams[\"figure.figsize\"] = (6.4,4)\n",
    "plt.xlabel(\"Probability mass $p$ in top-$p$ nucleus sampling\")\n",
    "plt.ylabel(\"Mean reviewer score\")\n",
    "plt.legend(raws_only.columns)\n",
    "plt.show()"
   ]
  },
  {
   "cell_type": "code",
   "execution_count": 157,
   "id": "65df1fe8-6423-48f1-a341-a3fbe4f840ff",
   "metadata": {},
   "outputs": [],
   "source": [
    "#raws_only.plot.line()"
   ]
  },
  {
   "cell_type": "code",
   "execution_count": 1394,
   "id": "204b8aca-9c0e-40a1-a51d-114b9cbc783e",
   "metadata": {},
   "outputs": [],
   "source": [
    "#scalies_only = mean_scores[[\"creative_score_scaled\",\"coherence_score_scaled\",\"like_score_scaled\",\"recognize_score_scaled\"]]\n",
    "#scalies_only.plot.line()"
   ]
  }
 ],
 "metadata": {
  "kernelspec": {
   "display_name": "Python 3 (ipykernel)",
   "language": "python",
   "name": "python3"
  },
  "language_info": {
   "codemirror_mode": {
    "name": "ipython",
    "version": 3
   },
   "file_extension": ".py",
   "mimetype": "text/x-python",
   "name": "python",
   "nbconvert_exporter": "python",
   "pygments_lexer": "ipython3",
   "version": "3.8.13"
  }
 },
 "nbformat": 4,
 "nbformat_minor": 5
}
