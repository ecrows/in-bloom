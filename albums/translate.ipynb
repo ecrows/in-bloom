{
 "cells": [
  {
   "cell_type": "markdown",
   "id": "0cd3fbe7-3e93-4d40-adec-39c87277f601",
   "metadata": {},
   "source": [
    "# Album caption translation\n",
    "\n",
    "This is a stub of some related experiment work looking at fine-tuning album art generation using a dataset of translated captions"
   ]
  },
  {
   "cell_type": "code",
   "execution_count": 11,
   "id": "66a88688-32db-440c-8d5c-4a96b558b5d4",
   "metadata": {},
   "outputs": [],
   "source": [
    "from transformers import pipeline"
   ]
  },
  {
   "cell_type": "code",
   "execution_count": 14,
   "id": "57949965-04e6-4dc9-a328-504fd5de28af",
   "metadata": {},
   "outputs": [
    {
     "data": {
      "application/vnd.jupyter.widget-view+json": {
       "model_id": "688a3a359d2948889e60ed9e0a687691",
       "version_major": 2,
       "version_minor": 0
      },
      "text/plain": [
       "Downloading:   0%|          | 0.00/44.0 [00:00<?, ?B/s]"
      ]
     },
     "metadata": {},
     "output_type": "display_data"
    },
    {
     "data": {
      "application/vnd.jupyter.widget-view+json": {
       "model_id": "a92b8200a3ee4cb89d2bc4cbcbc9eb26",
       "version_major": 2,
       "version_minor": 0
      },
      "text/plain": [
       "Downloading:   0%|          | 0.00/1.37k [00:00<?, ?B/s]"
      ]
     },
     "metadata": {},
     "output_type": "display_data"
    },
    {
     "data": {
      "application/vnd.jupyter.widget-view+json": {
       "model_id": "4d16550586ea4d18969ee97f8f439bbc",
       "version_major": 2,
       "version_minor": 0
      },
      "text/plain": [
       "Downloading:   0%|          | 0.00/788k [00:00<?, ?B/s]"
      ]
     },
     "metadata": {},
     "output_type": "display_data"
    },
    {
     "data": {
      "application/vnd.jupyter.widget-view+json": {
       "model_id": "ccb2fbc857964f948dd55b4a3138919a",
       "version_major": 2,
       "version_minor": 0
      },
      "text/plain": [
       "Downloading:   0%|          | 0.00/786k [00:00<?, ?B/s]"
      ]
     },
     "metadata": {},
     "output_type": "display_data"
    },
    {
     "data": {
      "application/vnd.jupyter.widget-view+json": {
       "model_id": "5bb65586cb82404f930fa3d54b9469e4",
       "version_major": 2,
       "version_minor": 0
      },
      "text/plain": [
       "Downloading:   0%|          | 0.00/1.54M [00:00<?, ?B/s]"
      ]
     },
     "metadata": {},
     "output_type": "display_data"
    },
    {
     "data": {
      "application/vnd.jupyter.widget-view+json": {
       "model_id": "cf7c173d7a31444c8b92336b70ef6193",
       "version_major": 2,
       "version_minor": 0
      },
      "text/plain": [
       "Downloading:   0%|          | 0.00/298M [00:00<?, ?B/s]"
      ]
     },
     "metadata": {},
     "output_type": "display_data"
    }
   ],
   "source": [
    "import torch\n",
    "from PIL import Image\n",
    "from glob import glob\n",
    "from pathlib import Path\n",
    "import pandas as pd\n",
    "import json\n",
    "\n",
    "device = torch.device(\"cuda\" if torch.cuda.is_available() else \"cpu\")\n",
    "\n",
    "from transformers import AutoTokenizer, AutoModelForSeq2SeqLM\n",
    "\n",
    "tokenizer = AutoTokenizer.from_pretrained(\"Helsinki-NLP/opus-mt-en-zh\")\n",
    "model = AutoModelForSeq2SeqLM.from_pretrained(\"Helsinki-NLP/opus-mt-en-zh\")\n",
    "\n",
    "df = pd.read_json(\"captioned_albums.json\")"
   ]
  },
  {
   "cell_type": "code",
   "execution_count": 15,
   "id": "8cf959d9-4278-4164-8bb2-b3571d648787",
   "metadata": {},
   "outputs": [],
   "source": [
    "translator = pipeline('translation', model=model, tokenizer=tokenizer, device=0)"
   ]
  },
  {
   "cell_type": "code",
   "execution_count": 19,
   "id": "9e3b402d-fa17-4b99-a62b-e650488a9454",
   "metadata": {},
   "outputs": [],
   "source": [
    "def do_translate(text):\n",
    "    translated = translator(text, max_length=256)\n",
    "    print(translated)\n",
    "    return translated"
   ]
  },
  {
   "cell_type": "code",
   "execution_count": null,
   "id": "b7428178-b1d5-4d93-8f8e-2ead370f9018",
   "metadata": {},
   "outputs": [],
   "source": [
    "translated_df = df[\"caption\"].apply(lambda a: a[0]).apply(do_translate)"
   ]
  },
  {
   "cell_type": "code",
   "execution_count": 21,
   "id": "6f3bc276-51c5-4771-a924-81700512946e",
   "metadata": {},
   "outputs": [],
   "source": [
    "translated_df.to_json(\"captioned_albums_cn.json\")"
   ]
  },
  {
   "cell_type": "code",
   "execution_count": null,
   "id": "fc2e3e6d-bbc3-4357-84f0-57b3185cc8eb",
   "metadata": {},
   "outputs": [],
   "source": []
  }
 ],
 "metadata": {
  "kernelspec": {
   "display_name": "Python (adv2)",
   "language": "python",
   "name": "adv2"
  },
  "language_info": {
   "codemirror_mode": {
    "name": "ipython",
    "version": 3
   },
   "file_extension": ".py",
   "mimetype": "text/x-python",
   "name": "python",
   "nbconvert_exporter": "python",
   "pygments_lexer": "ipython3",
   "version": "3.8.13"
  }
 },
 "nbformat": 4,
 "nbformat_minor": 5
}
