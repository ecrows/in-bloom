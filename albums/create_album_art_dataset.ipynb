{
 "cells": [
  {
   "cell_type": "code",
   "execution_count": 1,
   "id": "980d3ab4-e425-4309-ab6e-f649d8af9a8c",
   "metadata": {},
   "outputs": [],
   "source": [
    "from glob import glob\n",
    "from PIL import Image\n",
    "from pathlib import Path\n",
    "import pandas as pd\n",
    "import json"
   ]
  },
  {
   "cell_type": "markdown",
   "id": "740449f1-2e0b-474b-9d9b-e6f091e99963",
   "metadata": {},
   "source": [
    "At this point we already have captioned images in Chinese, and need to simply reformat for SD finetuning"
   ]
  },
  {
   "cell_type": "markdown",
   "id": "6a54c288-3f07-492d-acd8-55f4efb41549",
   "metadata": {},
   "source": [
    "Convert dataset into expected format"
   ]
  },
  {
   "cell_type": "code",
   "execution_count": 2,
   "id": "25b2577a-aa8a-4c92-846b-3fd01b8b8c79",
   "metadata": {},
   "outputs": [],
   "source": [
    "captioned_en = pd.read_json(\"captioned_albums.json\")\n",
    "captioned_cn = pd.read_json(\"captioned_albums_cn.json\").T"
   ]
  },
  {
   "cell_type": "code",
   "execution_count": 3,
   "id": "9bece07d-594a-459b-b733-dd8cd28e9f95",
   "metadata": {},
   "outputs": [],
   "source": [
    "captioned_out = pd.DataFrame()\n",
    "captioned_out[\"file_name\"] = captioned_en[\"file\"].apply(lambda a: a.split('\\\\')[-1])\n",
    "captioned_out[\"text\"] = captioned_cn[0].apply(lambda a: a[\"translation_text\"])"
   ]
  },
  {
   "cell_type": "code",
   "execution_count": 4,
   "id": "2d872d25-efb0-4aea-9818-2666cc8d2e01",
   "metadata": {},
   "outputs": [
    {
     "data": {
      "text/html": [
       "<div>\n",
       "<style scoped>\n",
       "    .dataframe tbody tr th:only-of-type {\n",
       "        vertical-align: middle;\n",
       "    }\n",
       "\n",
       "    .dataframe tbody tr th {\n",
       "        vertical-align: top;\n",
       "    }\n",
       "\n",
       "    .dataframe thead th {\n",
       "        text-align: right;\n",
       "    }\n",
       "</style>\n",
       "<table border=\"1\" class=\"dataframe\">\n",
       "  <thead>\n",
       "    <tr style=\"text-align: right;\">\n",
       "      <th></th>\n",
       "      <th>file_name</th>\n",
       "      <th>text</th>\n",
       "    </tr>\n",
       "  </thead>\n",
       "  <tbody>\n",
       "    <tr>\n",
       "      <th>0</th>\n",
       "      <td>0.jpg</td>\n",
       "      <td>黑裙子女性的绘画</td>\n",
       "    </tr>\n",
       "    <tr>\n",
       "      <th>1</th>\n",
       "      <td>1.jpg</td>\n",
       "      <td>一只狗鼻子的黑白相片</td>\n",
       "    </tr>\n",
       "    <tr>\n",
       "      <th>2</th>\n",
       "      <td>10.jpg</td>\n",
       "      <td>一张坐在沙发上的两个妇女画画</td>\n",
       "    </tr>\n",
       "    <tr>\n",
       "      <th>3</th>\n",
       "      <td>100.jpg</td>\n",
       "      <td>一部心心不宁的电影海报</td>\n",
       "    </tr>\n",
       "    <tr>\n",
       "      <th>4</th>\n",
       "      <td>1000.jpg</td>\n",
       "      <td>黑红海报 上面有恶魔的脸</td>\n",
       "    </tr>\n",
       "    <tr>\n",
       "      <th>...</th>\n",
       "      <td>...</td>\n",
       "      <td>...</td>\n",
       "    </tr>\n",
       "    <tr>\n",
       "      <th>3983</th>\n",
       "      <td>13582.jpg</td>\n",
       "      <td>一张坐在地上的人的图画</td>\n",
       "    </tr>\n",
       "    <tr>\n",
       "      <th>3984</th>\n",
       "      <td>13583.jpg</td>\n",
       "      <td>一名裸女在墙前摆着姿势</td>\n",
       "    </tr>\n",
       "    <tr>\n",
       "      <th>3985</th>\n",
       "      <td>13584.jpg</td>\n",
       "      <td>一幅男人戴帽子的画</td>\n",
       "    </tr>\n",
       "    <tr>\n",
       "      <th>3986</th>\n",
       "      <td>13585.jpg</td>\n",
       "      <td>一张坐在长椅上的妇女的黑白照片</td>\n",
       "    </tr>\n",
       "    <tr>\n",
       "      <th>3987</th>\n",
       "      <td>13586.jpg</td>\n",
       "      <td>城市的天线 天空中满月的月亮</td>\n",
       "    </tr>\n",
       "  </tbody>\n",
       "</table>\n",
       "<p>3988 rows × 2 columns</p>\n",
       "</div>"
      ],
      "text/plain": [
       "      file_name             text\n",
       "0         0.jpg         黑裙子女性的绘画\n",
       "1         1.jpg       一只狗鼻子的黑白相片\n",
       "2        10.jpg   一张坐在沙发上的两个妇女画画\n",
       "3       100.jpg      一部心心不宁的电影海报\n",
       "4      1000.jpg     黑红海报 上面有恶魔的脸\n",
       "...         ...              ...\n",
       "3983  13582.jpg      一张坐在地上的人的图画\n",
       "3984  13583.jpg      一名裸女在墙前摆着姿势\n",
       "3985  13584.jpg        一幅男人戴帽子的画\n",
       "3986  13585.jpg  一张坐在长椅上的妇女的黑白照片\n",
       "3987  13586.jpg   城市的天线 天空中满月的月亮\n",
       "\n",
       "[3988 rows x 2 columns]"
      ]
     },
     "execution_count": 4,
     "metadata": {},
     "output_type": "execute_result"
    }
   ],
   "source": [
    "captioned_out"
   ]
  },
  {
   "cell_type": "code",
   "execution_count": 5,
   "id": "484b5878-f173-4e45-b7a2-06029eab2896",
   "metadata": {},
   "outputs": [],
   "source": [
    "captioned_out.to_json(\"metadata.jsonl\", lines=True, orient=\"records\")"
   ]
  },
  {
   "cell_type": "markdown",
   "id": "6d7240dd-a9e8-4225-8873-8b15e69335e7",
   "metadata": {},
   "source": [
    "## Create prompts\n"
   ]
  },
  {
   "cell_type": "code",
   "execution_count": 14,
   "id": "383fd50d-f8bd-4c8f-a253-8bfdab5a4aee",
   "metadata": {},
   "outputs": [],
   "source": [
    "base = \"音乐专辑\""
   ]
  },
  {
   "cell_type": "code",
   "execution_count": 15,
   "id": "db6844dc-cefa-40df-a9de-37dc83094cb4",
   "metadata": {},
   "outputs": [],
   "source": [
    "SEED=0\n",
    "SAMPLE_SIZE=200"
   ]
  },
  {
   "cell_type": "code",
   "execution_count": 16,
   "id": "ce14d459-1ead-4077-ae98-3345dee7a314",
   "metadata": {},
   "outputs": [],
   "source": [
    "p080 = pd.read_json(\"../BLOOM_results/3K_BLOOM_p080.jsonl\", lines=True).sample(SAMPLE_SIZE, random_state=SEED)\n",
    "p085 = pd.read_json(\"../BLOOM_results/3K_BLOOM_p085.jsonl\", lines=True).sample(SAMPLE_SIZE, random_state=SEED)\n",
    "p090 = pd.read_json(\"../BLOOM_results/3K_BLOOM_p090.jsonl\", lines=True).sample(SAMPLE_SIZE, random_state=SEED)\n",
    "p095 = pd.read_json(\"../BLOOM_results/3K_BLOOM_p095.jsonl\", lines=True).sample(SAMPLE_SIZE, random_state=SEED)\n",
    "p099 = pd.read_json(\"../BLOOM_results/3K_BLOOM_p099.jsonl\", lines=True).sample(SAMPLE_SIZE, random_state=SEED)"
   ]
  },
  {
   "cell_type": "code",
   "execution_count": 17,
   "id": "3bd40e53-4677-475b-8ab0-3b53f847ec52",
   "metadata": {},
   "outputs": [],
   "source": [
    "sample = pd.concat([p080, p085, p090, p095, p099])"
   ]
  },
  {
   "cell_type": "code",
   "execution_count": 18,
   "id": "24419798-e43e-43f9-bbfb-3813017bcaaa",
   "metadata": {},
   "outputs": [],
   "source": [
    "prompts = [base + \" \" + a for a in sample[\"response\"].apply(lambda a: a[0][\"generated_text\"]).str.split(\"下面是一首歌的中文歌词。\\n歌词：\\n\").apply(lambda a: a[1]).str.replace(\"\\\\n\", \" \", regex=True).to_list()]"
   ]
  },
  {
   "cell_type": "code",
   "execution_count": 19,
   "id": "af88f150-40a2-49f1-a416-dcf355dc7a99",
   "metadata": {},
   "outputs": [],
   "source": [
    "with open('1000prompts.txt', 'w', encoding=\"utf-8\") as f:\n",
    "    for line in prompts:\n",
    "        print(line,file=f)"
   ]
  }
 ],
 "metadata": {
  "kernelspec": {
   "display_name": "Python (adv2)",
   "language": "python",
   "name": "adv2"
  },
  "language_info": {
   "codemirror_mode": {
    "name": "ipython",
    "version": 3
   },
   "file_extension": ".py",
   "mimetype": "text/x-python",
   "name": "python",
   "nbconvert_exporter": "python",
   "pygments_lexer": "ipython3",
   "version": "3.8.13"
  }
 },
 "nbformat": 4,
 "nbformat_minor": 5
}
