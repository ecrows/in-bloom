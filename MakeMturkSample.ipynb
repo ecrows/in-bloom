{
 "cells": [
  {
   "cell_type": "markdown",
   "id": "83f811f9-46c7-49cf-82f6-5faf08ead091",
   "metadata": {},
   "source": [
    "# Generate Mechanical Turk Review Sample\n",
    "This notebook creates a combined sample of lyrics for use on Amazon Mechanical Turk for review."
   ]
  },
  {
   "cell_type": "code",
   "execution_count": 1,
   "id": "2215e309-892e-42e6-b0fb-83e46761762f",
   "metadata": {},
   "outputs": [],
   "source": [
    "import pandas as pd"
   ]
  },
  {
   "cell_type": "code",
   "execution_count": 12,
   "id": "28b242c5-50ac-4a59-ac4c-d71b3b0c6788",
   "metadata": {},
   "outputs": [],
   "source": [
    "SEED=0"
   ]
  },
  {
   "cell_type": "code",
   "execution_count": 87,
   "id": "f14bc59d-d28b-488d-9169-bc1d99149021",
   "metadata": {},
   "outputs": [],
   "source": [
    "SAMPLE_SIZE=60"
   ]
  },
  {
   "cell_type": "code",
   "execution_count": 88,
   "id": "532e3edb-17a8-4efc-8571-7a41f4729d4a",
   "metadata": {},
   "outputs": [],
   "source": [
    "p080 = pd.read_json(\"3K_BLOOM_p080.jsonl\", lines=True).sample(SAMPLE_SIZE, random_state=SEED)\n",
    "p085 = pd.read_json(\"3K_BLOOM_p085.jsonl\", lines=True).sample(SAMPLE_SIZE, random_state=SEED)\n",
    "p090 = pd.read_json(\"3K_BLOOM_p090.jsonl\", lines=True).sample(SAMPLE_SIZE, random_state=SEED)\n",
    "p095 = pd.read_json(\"3K_BLOOM_p095.jsonl\", lines=True).sample(SAMPLE_SIZE, random_state=SEED)\n",
    "p099 = pd.read_json(\"3K_BLOOM_p099.jsonl\", lines=True).sample(SAMPLE_SIZE, random_state=SEED)\n",
    "real_text = pd.read_json(\"top_song_lyrics_cleaned_cn.jsonl\", lines=True).sample(SAMPLE_SIZE, random_state=SEED)"
   ]
  },
  {
   "cell_type": "code",
   "execution_count": 89,
   "id": "e0d10b6d-b494-48f9-896c-fd41fda8b713",
   "metadata": {},
   "outputs": [
    {
     "name": "stderr",
     "output_type": "stream",
     "text": [
      "C:\\Users\\Gamer\\AppData\\Local\\Temp\\ipykernel_33504\\1173255632.py:1: FutureWarning: The default value of regex will change from True to False in a future version.\n",
      "  text_real = pd.Series([a[:100] for a in real_text[\"cleaned_lyrics\"]]).str.replace('\\\\n','<br/>')\n"
     ]
    }
   ],
   "source": [
    "text_real = pd.Series([a[:100] for a in real_text[\"cleaned_lyrics\"]]).str.replace('\\\\n','<br/>')"
   ]
  },
  {
   "cell_type": "code",
   "execution_count": null,
   "id": "fc5bbde1-952d-4f24-9022-b534b6587ea7",
   "metadata": {},
   "outputs": [],
   "source": [
    "text_real"
   ]
  },
  {
   "cell_type": "code",
   "execution_count": 91,
   "id": "4f9fdfcb-393d-4dce-b363-0af9df3cc413",
   "metadata": {},
   "outputs": [
    {
     "name": "stderr",
     "output_type": "stream",
     "text": [
      "C:\\Users\\Gamer\\AppData\\Local\\Temp\\ipykernel_33504\\3742400195.py:1: FutureWarning: The default value of regex will change from True to False in a future version.\n",
      "  text_p80 = p080[\"response\"].apply(lambda a: a[0][\"generated_text\"]).str.split(\"下面是一首歌的中文歌词。\\n歌词：\\n\").apply(lambda a: a[1]).str.replace('\\\\n','<br/>')\n",
      "C:\\Users\\Gamer\\AppData\\Local\\Temp\\ipykernel_33504\\3742400195.py:2: FutureWarning: The default value of regex will change from True to False in a future version.\n",
      "  text_p85 = p085[\"response\"].apply(lambda a: a[0][\"generated_text\"]).str.split(\"下面是一首歌的中文歌词。\\n歌词：\\n\").apply(lambda a: a[1]).str.replace('\\\\n','<br/>')\n",
      "C:\\Users\\Gamer\\AppData\\Local\\Temp\\ipykernel_33504\\3742400195.py:3: FutureWarning: The default value of regex will change from True to False in a future version.\n",
      "  text_p90 = p090[\"response\"].apply(lambda a: a[0][\"generated_text\"]).str.split(\"下面是一首歌的中文歌词。\\n歌词：\\n\").apply(lambda a: a[1]).str.replace('\\\\n','<br/>')\n",
      "C:\\Users\\Gamer\\AppData\\Local\\Temp\\ipykernel_33504\\3742400195.py:4: FutureWarning: The default value of regex will change from True to False in a future version.\n",
      "  text_p95 = p095[\"response\"].apply(lambda a: a[0][\"generated_text\"]).str.split(\"下面是一首歌的中文歌词。\\n歌词：\\n\").apply(lambda a: a[1]).str.replace('\\\\n','<br/>')\n",
      "C:\\Users\\Gamer\\AppData\\Local\\Temp\\ipykernel_33504\\3742400195.py:5: FutureWarning: The default value of regex will change from True to False in a future version.\n",
      "  text_p99 = p099[\"response\"].apply(lambda a: a[0][\"generated_text\"]).str.split(\"下面是一首歌的中文歌词。\\n歌词：\\n\").apply(lambda a: a[1]).str.replace('\\\\n','<br/>')\n"
     ]
    }
   ],
   "source": [
    "text_p80 = p080[\"response\"].apply(lambda a: a[0][\"generated_text\"]).str.split(\"下面是一首歌的中文歌词。\\n歌词：\\n\").apply(lambda a: a[1]).str.replace('\\\\n','<br/>')\n",
    "text_p85 = p085[\"response\"].apply(lambda a: a[0][\"generated_text\"]).str.split(\"下面是一首歌的中文歌词。\\n歌词：\\n\").apply(lambda a: a[1]).str.replace('\\\\n','<br/>')\n",
    "text_p90 = p090[\"response\"].apply(lambda a: a[0][\"generated_text\"]).str.split(\"下面是一首歌的中文歌词。\\n歌词：\\n\").apply(lambda a: a[1]).str.replace('\\\\n','<br/>')\n",
    "text_p95 = p095[\"response\"].apply(lambda a: a[0][\"generated_text\"]).str.split(\"下面是一首歌的中文歌词。\\n歌词：\\n\").apply(lambda a: a[1]).str.replace('\\\\n','<br/>')\n",
    "text_p99 = p099[\"response\"].apply(lambda a: a[0][\"generated_text\"]).str.split(\"下面是一首歌的中文歌词。\\n歌词：\\n\").apply(lambda a: a[1]).str.replace('\\\\n','<br/>')"
   ]
  },
  {
   "cell_type": "code",
   "execution_count": 92,
   "id": "4c6d579d-f18f-48d5-be8e-ce5452fc2182",
   "metadata": {},
   "outputs": [],
   "source": [
    "def make_sample_ready(tdf, source):\n",
    "    tdf = pd.DataFrame(tdf).rename(columns={\"response\":\"text\"})\n",
    "    tdf[\"source\"] = source\n",
    "    return tdf"
   ]
  },
  {
   "cell_type": "code",
   "execution_count": 93,
   "id": "d60f39df-0859-4c8e-b27b-6d25e0633b26",
   "metadata": {},
   "outputs": [],
   "source": [
    "big_sample = pd.DataFrame()"
   ]
  },
  {
   "cell_type": "code",
   "execution_count": 94,
   "id": "d1646237-cf82-4734-81a1-980ac4d07286",
   "metadata": {},
   "outputs": [],
   "source": [
    "real_tdf = pd.DataFrame(text_real).rename(columns={0: \"text\"})\n",
    "real_tdf[\"source\"] = \"real\""
   ]
  },
  {
   "cell_type": "code",
   "execution_count": 95,
   "id": "06a2caeb-3358-403c-9933-72166a36dc21",
   "metadata": {},
   "outputs": [],
   "source": [
    "big_sample = pd.concat([make_sample_ready(text_p80, \"p80\"),\n",
    "                        make_sample_ready(text_p85, \"p85\"),\n",
    "                        make_sample_ready(text_p90, \"p90\"),\n",
    "                        make_sample_ready(text_p95, \"p95\"),\n",
    "                        make_sample_ready(text_p99, \"p99\"),\n",
    "                        real_tdf])"
   ]
  },
  {
   "cell_type": "code",
   "execution_count": 98,
   "id": "bb39c644-0c87-4b6e-958a-fc0a6461f306",
   "metadata": {},
   "outputs": [],
   "source": [
    "big_sample.to_csv(\"data/big_bloom_sample_with_source.csv\", index=False)"
   ]
  }
 ],
 "metadata": {
  "kernelspec": {
   "display_name": "Python (adv2)",
   "language": "python",
   "name": "adv2"
  },
  "language_info": {
   "codemirror_mode": {
    "name": "ipython",
    "version": 3
   },
   "file_extension": ".py",
   "mimetype": "text/x-python",
   "name": "python",
   "nbconvert_exporter": "python",
   "pygments_lexer": "ipython3",
   "version": "3.8.13"
  }
 },
 "nbformat": 4,
 "nbformat_minor": 5
}
